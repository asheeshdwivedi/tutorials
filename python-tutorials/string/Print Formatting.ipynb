{
 "cells": [
  {
   "cell_type": "code",
   "execution_count": 1,
   "metadata": {
    "collapsed": false,
    "deletable": true,
    "editable": true
   },
   "outputs": [
    {
     "name": "stdout",
     "output_type": "stream",
     "text": [
      "This is the String\n"
     ]
    }
   ],
   "source": [
    "print 'This is the String'"
   ]
  },
  {
   "cell_type": "markdown",
   "metadata": {
    "deletable": true,
    "editable": true
   },
   "source": [
    "### String\n",
    "\n",
    "`%s` represent string "
   ]
  },
  {
   "cell_type": "code",
   "execution_count": 2,
   "metadata": {
    "collapsed": false,
    "deletable": true,
    "editable": true
   },
   "outputs": [
    {
     "name": "stdout",
     "output_type": "stream",
     "text": [
      "Place another string with a mod and s: STRING\n"
     ]
    }
   ],
   "source": [
    "s = 'STRING'\n",
    "print 'Place another string with a mod and s: %s' %(s)"
   ]
  },
  {
   "cell_type": "markdown",
   "metadata": {
    "deletable": true,
    "editable": true
   },
   "source": [
    "### Floating Point Numbers\n",
    "\n",
    "%f represent float "
   ]
  },
  {
   "cell_type": "code",
   "execution_count": 3,
   "metadata": {
    "collapsed": false,
    "deletable": true,
    "editable": true
   },
   "outputs": [
    {
     "name": "stdout",
     "output_type": "stream",
     "text": [
      "This is a float : 1.240000\n"
     ]
    }
   ],
   "source": [
    "f = 1.24\n",
    "print 'This is a float : %f' %(f)"
   ]
  },
  {
   "cell_type": "markdown",
   "metadata": {
    "deletable": true,
    "editable": true
   },
   "source": [
    "**%N1.N2f** where \n",
    "   1. N1 is minimum number of digit should contain before the decimal\n",
    "   2. N2 shows how many number need to show after decimal.\n"
   ]
  },
  {
   "cell_type": "code",
   "execution_count": 1,
   "metadata": {
    "collapsed": false,
    "deletable": true,
    "editable": true
   },
   "outputs": [
    {
     "name": "stdout",
     "output_type": "stream",
     "text": [
      "We are expecting 0.001 : 0.001\n"
     ]
    }
   ],
   "source": [
    "f = .001\n",
    "print 'We are expecting 0.001 : %1.3f' %(f)"
   ]
  },
  {
   "cell_type": "code",
   "execution_count": 7,
   "metadata": {
    "collapsed": false,
    "deletable": true,
    "editable": true
   },
   "outputs": [
    {
     "name": "stdout",
     "output_type": "stream",
     "text": [
      "Floating point number 13.44\n"
     ]
    }
   ],
   "source": [
    "print 'Floating point number %1.2f' %(13.44)"
   ]
  },
  {
   "cell_type": "code",
   "execution_count": 8,
   "metadata": {
    "collapsed": false,
    "deletable": true,
    "editable": true
   },
   "outputs": [
    {
     "name": "stdout",
     "output_type": "stream",
     "text": [
      "Floating point number 13\n"
     ]
    }
   ],
   "source": [
    "print 'Floating point number %1.0f' %(13.44)"
   ]
  },
  {
   "cell_type": "code",
   "execution_count": 9,
   "metadata": {
    "collapsed": false,
    "deletable": true,
    "editable": true
   },
   "outputs": [
    {
     "name": "stdout",
     "output_type": "stream",
     "text": [
      "Floating point number 13.44000\n"
     ]
    }
   ],
   "source": [
    "print 'Floating point number %1.5f' %(13.44)"
   ]
  },
  {
   "cell_type": "markdown",
   "metadata": {
    "collapsed": true,
    "deletable": true,
    "editable": true
   },
   "source": [
    "## Conversion Format methods"
   ]
  },
  {
   "cell_type": "markdown",
   "metadata": {},
   "source": [
    "it shoud be notedt `%s` and `%r` actually convert any python object to String using two separate method ``str()`` and ``repr()`` "
   ]
  },
  {
   "cell_type": "code",
   "execution_count": 3,
   "metadata": {
    "collapsed": false
   },
   "outputs": [
    {
     "name": "stdout",
     "output_type": "stream",
     "text": [
      "Here is the number 123.1. Here is the string : 'hi'\n"
     ]
    }
   ],
   "source": [
    "print 'Here is the number %s. Here is the string : %r' %(123.1 , 'hi') "
   ]
  },
  {
   "cell_type": "code",
   "execution_count": 4,
   "metadata": {
    "collapsed": false
   },
   "outputs": [
    {
     "name": "stdout",
     "output_type": "stream",
     "text": [
      "Here is the number 123.1. Here is the string : hi\n"
     ]
    }
   ],
   "source": [
    "print 'Here is the number %r. Here is the string : %s' %(123.1 , 'hi') "
   ]
  },
  {
   "cell_type": "markdown",
   "metadata": {},
   "source": [
    "## Multiple Formating"
   ]
  },
  {
   "cell_type": "code",
   "execution_count": 5,
   "metadata": {
    "collapsed": false
   },
   "outputs": [
    {
     "name": "stdout",
     "output_type": "stream",
     "text": [
      "First : hi!!, Second: 3.14, Third: 22\n"
     ]
    }
   ],
   "source": [
    "print 'First : %s, Second: %1.2f, Third: %r' %('hi!!' , 3.14,22)"
   ]
  },
  {
   "cell_type": "markdown",
   "metadata": {},
   "source": [
    "## Using the string.format() method "
   ]
  },
  {
   "cell_type": "markdown",
   "metadata": {},
   "source": [
    "The best ways to format object into a string for print statements is using format method .\n",
    "\n",
    "### The syntax is :\n",
    "\n",
    "```'String here {var1} then also {var2}'.format(var1='somthing1' , var2=somthing2)```\n",
    "\n",
    "examples"
   ]
  },
  {
   "cell_type": "code",
   "execution_count": 6,
   "metadata": {
    "collapsed": false
   },
   "outputs": [
    {
     "name": "stdout",
     "output_type": "stream",
     "text": [
      "This is a string with an insert\n"
     ]
    }
   ],
   "source": [
    "print 'This is a string with an {p}'.format(p='insert')"
   ]
  },
  {
   "cell_type": "code",
   "execution_count": 9,
   "metadata": {
    "collapsed": false
   },
   "outputs": [
    {
     "name": "stdout",
     "output_type": "stream",
     "text": [
      "One: HI!, Two: HI!, Three : HI!\n"
     ]
    }
   ],
   "source": [
    "#Multiple times\n",
    "print 'One: {p}, Two: {p}, Three : {p}'.format(p='HI!')"
   ]
  },
  {
   "cell_type": "code",
   "execution_count": 10,
   "metadata": {
    "collapsed": false
   },
   "outputs": [
    {
     "name": "stdout",
     "output_type": "stream",
     "text": [
      "Object 1 : 1 , Object 2: two , Object 3: 12.24\n"
     ]
    }
   ],
   "source": [
    "#Several Objects:\n",
    "print 'Object 1 : {a} , Object 2: {b} , Object 3: {c}'.format(a=1,b='two',c='12.24')"
   ]
  },
  {
   "cell_type": "code",
   "execution_count": null,
   "metadata": {
    "collapsed": true
   },
   "outputs": [],
   "source": []
  }
 ],
 "metadata": {
  "kernelspec": {
   "display_name": "Python 2",
   "language": "python",
   "name": "python2"
  },
  "language_info": {
   "codemirror_mode": {
    "name": "ipython",
    "version": 2
   },
   "file_extension": ".py",
   "mimetype": "text/x-python",
   "name": "python",
   "nbconvert_exporter": "python",
   "pygments_lexer": "ipython2",
   "version": "2.7.10"
  }
 },
 "nbformat": 4,
 "nbformat_minor": 2
}
