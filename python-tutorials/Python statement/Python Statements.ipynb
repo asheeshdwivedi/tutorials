{
 "cells": [
  {
   "cell_type": "markdown",
   "metadata": {},
   "source": [
    "## Python Statements\n",
    "\n",
    "Pythin gets rid of () and {} by incorporating two main factors:\n",
    "    1. colon **:**\n",
    "    2. whitespace is used (indentation) to describe what take place in the case of the statement \n",
    "    \n",
    "Another mjor diffrence is lack of semicolons in Python. Samicolons are used to denote statement ending, but in the Python , the end of the line is the same as end of the statement.\n",
    "\n",
    "Lets take an example \n",
    "\n",
    "``If a is greater than b, assign 2 to a and 4 to b``\n",
    "\n",
    "*In java*\n",
    "\n",
    "```java\n",
    "    if(a>b){\n",
    "     a = 2 ;\n",
    "     b = 4;\n",
    "    }\n",
    "```\n",
    "*In python*\n",
    "\n",
    "```python\n",
    "    if a > b:\n",
    "        a = 2\n",
    "        b = 4\n",
    "```\n",
    "\n",
    "### Indentation\n",
    "\n",
    "```python\n",
    " if x:\n",
    "     if y:\n",
    "        code-statement\n",
    " else:\n",
    "     another-code-statement\n",
    "```"
   ]
  },
  {
   "cell_type": "markdown",
   "metadata": {},
   "source": [
    "### if,elif,else Statements\n",
    "\n",
    "*Syntax format for if statement*\n",
    "\n",
    "```python\n",
    "if case1:\n",
    "    perform action1\n",
    "elif case2:\n",
    "    perform action2\n",
    "else case3:\n",
    "    perform action3\n",
    "```\n",
    "\n",
    "**Let's do some coding**"
   ]
  },
  {
   "cell_type": "code",
   "execution_count": 1,
   "metadata": {
    "collapsed": false
   },
   "outputs": [
    {
     "name": "stdout",
     "output_type": "stream",
     "text": [
      "this was true !!\n"
     ]
    }
   ],
   "source": [
    "if True:\n",
    "    print 'this was true !!'"
   ]
  },
  {
   "cell_type": "code",
   "execution_count": 2,
   "metadata": {
    "collapsed": false
   },
   "outputs": [
    {
     "name": "stdout",
     "output_type": "stream",
     "text": [
      "I will be printed in any case where x is not true!\n"
     ]
    }
   ],
   "source": [
    "x = False\n",
    "\n",
    "if x:\n",
    "    print 'x was true!!'\n",
    "else:\n",
    "    print 'I will be printed in any case where x is not true!' "
   ]
  },
  {
   "cell_type": "code",
   "execution_count": 5,
   "metadata": {
    "collapsed": false
   },
   "outputs": [
    {
     "name": "stdout",
     "output_type": "stream",
     "text": [
      "Welcome to Bank\n"
     ]
    }
   ],
   "source": [
    "loc ='Bank'\n",
    "if loc == 'Auto Shop':\n",
    "    print 'Welcome to auto shop!'\n",
    "elif loc == 'Bank':\n",
    "    print 'Welcome to Bank'\n",
    "else:\n",
    "    print 'Where are you ?'"
   ]
  },
  {
   "cell_type": "code",
   "execution_count": 9,
   "metadata": {
    "collapsed": false
   },
   "outputs": [
    {
     "name": "stdout",
     "output_type": "stream",
     "text": [
      "Welcome Sammy\n"
     ]
    }
   ],
   "source": [
    "person = 'Sammy'\n",
    "\n",
    "if person == 'Sammy':\n",
    "    print 'Welcome Sammy'\n",
    "elif person == 'George':\n",
    "    print 'Welcome George'\n",
    "else:\n",
    "    print \"Welcome, What's your name\""
   ]
  },
  {
   "cell_type": "code",
   "execution_count": 10,
   "metadata": {
    "collapsed": false
   },
   "outputs": [
    {
     "name": "stdout",
     "output_type": "stream",
     "text": [
      "Welcome George\n"
     ]
    }
   ],
   "source": [
    "person = 'George'\n",
    "\n",
    "if person == 'Sammy':\n",
    "    print 'Welcome Sammy'\n",
    "elif person == 'George':\n",
    "    print 'Welcome George'\n",
    "else:\n",
    "    print \"Welcome, What's your name\""
   ]
  },
  {
   "cell_type": "code",
   "execution_count": null,
   "metadata": {
    "collapsed": true
   },
   "outputs": [],
   "source": []
  }
 ],
 "metadata": {
  "kernelspec": {
   "display_name": "Python 2",
   "language": "python",
   "name": "python2"
  },
  "language_info": {
   "codemirror_mode": {
    "name": "ipython",
    "version": 2
   },
   "file_extension": ".py",
   "mimetype": "text/x-python",
   "name": "python",
   "nbconvert_exporter": "python",
   "pygments_lexer": "ipython2",
   "version": "2.7.10"
  }
 },
 "nbformat": 4,
 "nbformat_minor": 2
}
