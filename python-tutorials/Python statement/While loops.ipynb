{
 "cells": [
  {
   "cell_type": "markdown",
   "metadata": {},
   "source": [
    "## While loops\n",
    "\n",
    "The **while** statement in Python is one of most general way to perform iteration. A **while** statement will repeatedly execute a single statement or group of statement as long as condistion is true.\n",
    "\n",
    "Syntax of while loop \n",
    "\n",
    "```python\n",
    "    while condition:\n",
    "        statement\n",
    "    else:\n",
    "        final statements\n",
    "```\n",
    "\n",
    "Let's look some while loop in action."
   ]
  },
  {
   "cell_type": "code",
   "execution_count": 2,
   "metadata": {
    "collapsed": false
   },
   "outputs": [
    {
     "name": "stdout",
     "output_type": "stream",
     "text": [
      "x is currentaly : 0 \n",
      "x is still less then 10 , adding 1 to x \n",
      "x is currentaly : 1 \n",
      "x is still less then 10 , adding 1 to x \n",
      "x is currentaly : 2 \n",
      "x is still less then 10 , adding 1 to x \n",
      "x is currentaly : 3 \n",
      "x is still less then 10 , adding 1 to x \n",
      "x is currentaly : 4 \n",
      "x is still less then 10 , adding 1 to x \n",
      "x is currentaly : 5 \n",
      "x is still less then 10 , adding 1 to x \n",
      "x is currentaly : 6 \n",
      "x is still less then 10 , adding 1 to x \n",
      "x is currentaly : 7 \n",
      "x is still less then 10 , adding 1 to x \n",
      "x is currentaly : 8 \n",
      "x is still less then 10 , adding 1 to x \n",
      "x is currentaly : 9 \n",
      "x is still less then 10 , adding 1 to x \n"
     ]
    }
   ],
   "source": [
    "x = 0\n",
    "while x < 10:\n",
    "    print 'x is currently : %s '%(x)\n",
    "    print 'x is still less then 10 , adding 1 to x '\n",
    "    x += 1"
   ]
  },
  {
   "cell_type": "markdown",
   "metadata": {},
   "source": [
    "Let's see how **else** come in picture once loop done "
   ]
  },
  {
   "cell_type": "code",
   "execution_count": 6,
   "metadata": {
    "collapsed": false
   },
   "outputs": [
    {
     "name": "stdout",
     "output_type": "stream",
     "text": [
      "x is currently : 0\n",
      "x is still less then 10 , adding 1 to x \n",
      "x is currently : 1\n",
      "x is still less then 10 , adding 1 to x \n",
      "x is currently : 2\n",
      "x is still less then 10 , adding 1 to x \n",
      "x is currently : 3\n",
      "x is still less then 10 , adding 1 to x \n",
      "x is currently : 4\n",
      "x is still less then 10 , adding 1 to x \n",
      "x is currently : 5\n",
      "x is still less then 10 , adding 1 to x \n",
      "x is currently : 6\n",
      "x is still less then 10 , adding 1 to x \n",
      "x is currently : 7\n",
      "x is still less then 10 , adding 1 to x \n",
      "x is currently : 8\n",
      "x is still less then 10 , adding 1 to x \n",
      "x is currently : 9\n",
      "x is still less then 10 , adding 1 to x \n",
      "All Done!\n"
     ]
    }
   ],
   "source": [
    "x = 0\n",
    "while x < 10:\n",
    "    print 'x is currently : {s}'.format(s=x)\n",
    "    print 'x is still less then 10 , adding 1 to x '\n",
    "    x +=1\n",
    "\n",
    "else:\n",
    "    print 'All Done!'"
   ]
  },
  {
   "cell_type": "markdown",
   "metadata": {},
   "source": [
    "## break , continue , pass\n",
    "\n",
    "We can break , continue and pass statement in our loop \n",
    "\n",
    "* break : Break out the current enclosing loop.\n",
    "* continue : Goes to top of current enclosing loop \n",
    "* pass : Does nothing at all\n",
    "\n",
    "*Syntax of **break** and **continue** statements\n",
    "\n",
    "```python\n",
    "while condition:\n",
    "    statement 1\n",
    "    if condition:\n",
    "        break\n",
    "    if condition:\n",
    "        continue\n",
    "else:\n",
    "```\n",
    "break and continue can appear anywhere inside the loop's body. "
   ]
  },
  {
   "cell_type": "code",
   "execution_count": 10,
   "metadata": {
    "collapsed": false
   },
   "outputs": [
    {
     "name": "stdout",
     "output_type": "stream",
     "text": [
      "x is currently: 0\n",
      "x is still less then 10, adding 1 to x \n",
      "continuing..\n",
      "x is currently: 1\n",
      "x is still less then 10, adding 1 to x \n",
      "continuing..\n",
      "x is currently: 2\n",
      "x is still less then 10, adding 1 to x \n",
      "x==3\n",
      "x is currently: 3\n",
      "x is still less then 10, adding 1 to x \n",
      "continuing..\n",
      "x is currently: 4\n",
      "x is still less then 10, adding 1 to x \n",
      "continuing..\n",
      "x is currently: 5\n",
      "x is still less then 10, adding 1 to x \n",
      "continuing..\n",
      "x is currently: 6\n",
      "x is still less then 10, adding 1 to x \n",
      "continuing..\n",
      "x is currently: 7\n",
      "x is still less then 10, adding 1 to x \n",
      "continuing..\n",
      "x is currently: 8\n",
      "x is still less then 10, adding 1 to x \n",
      "continuing..\n",
      "x is currently: 9\n",
      "x is still less then 10, adding 1 to x \n",
      "continuing..\n"
     ]
    }
   ],
   "source": [
    "x = 0\n",
    "while x < 10:\n",
    "    print 'x is currently:',x\n",
    "    print 'x is still less then 10, adding 1 to x '\n",
    "    x += 1\n",
    "    if x == 3:\n",
    "        print 'x==3'\n",
    "    else:\n",
    "        print 'continuing..'\n",
    "        continue"
   ]
  },
  {
   "cell_type": "code",
   "execution_count": 11,
   "metadata": {
    "collapsed": false
   },
   "outputs": [
    {
     "name": "stdout",
     "output_type": "stream",
     "text": [
      "x is currently: 0\n",
      "x is still less then 10, adding 1 to x \n",
      "continuing..\n",
      "x is currently: 1\n",
      "x is still less then 10, adding 1 to x \n",
      "continuing..\n",
      "x is currently: 2\n",
      "x is still less then 10, adding 1 to x \n",
      "x==3\n"
     ]
    }
   ],
   "source": [
    "x = 0\n",
    "while x < 10:\n",
    "    print 'x is currently:',x\n",
    "    print 'x is still less then 10, adding 1 to x '\n",
    "    x += 1\n",
    "    if x == 3:\n",
    "        print 'x==3'\n",
    "        break\n",
    "    else:\n",
    "        print 'continuing..'\n",
    "        continue"
   ]
  },
  {
   "cell_type": "code",
   "execution_count": null,
   "metadata": {
    "collapsed": true
   },
   "outputs": [],
   "source": []
  }
 ],
 "metadata": {
  "kernelspec": {
   "display_name": "Python 2",
   "language": "python",
   "name": "python2"
  },
  "language_info": {
   "codemirror_mode": {
    "name": "ipython",
    "version": 2
   },
   "file_extension": ".py",
   "mimetype": "text/x-python",
   "name": "python",
   "nbconvert_exporter": "python",
   "pygments_lexer": "ipython2",
   "version": "2.7.10"
  }
 },
 "nbformat": 4,
 "nbformat_minor": 2
}
